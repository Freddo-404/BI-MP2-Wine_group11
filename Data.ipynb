{
 "cells": [
  {
   "cell_type": "markdown",
   "id": "dc858837",
   "metadata": {},
   "source": [
    "Vi starter her"
   ]
  }
 ],
 "metadata": {
  "language_info": {
   "name": "python"
  }
 },
 "nbformat": 4,
 "nbformat_minor": 5
}
